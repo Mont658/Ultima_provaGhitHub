{
 "cells": [
  {
   "cell_type": "code",
   "execution_count": 3,
   "id": "69b58bec",
   "metadata": {},
   "outputs": [],
   "source": [
    "Vale = \"anem bé\""
   ]
  },
  {
   "cell_type": "code",
   "execution_count": 4,
   "id": "1895489a",
   "metadata": {},
   "outputs": [],
   "source": [
    "no_vale = \"no anem bé\""
   ]
  },
  {
   "cell_type": "code",
   "execution_count": 7,
   "id": "0eb40686",
   "metadata": {},
   "outputs": [
    {
     "name": "stdout",
     "output_type": "stream",
     "text": [
      "anem bé,no anem bé\n"
     ]
    }
   ],
   "source": [
    "seguim = \"seguim bé\"\n",
    "\n",
    "seguim1 = Vale + \",\" + no_vale\n",
    "\n",
    "print(seguim1)"
   ]
  },
  {
   "cell_type": "code",
   "execution_count": 8,
   "id": "aa9d54fd",
   "metadata": {},
   "outputs": [
    {
     "name": "stdout",
     "output_type": "stream",
     "text": [
      "Hola, anem bé i no anem bé i anem bé,no anem bé\n"
     ]
    }
   ],
   "source": [
    "Hola = \"Hola, \" + Vale + \" i \" + no_vale + \" i \" + seguim1\n",
    "print(Hola)"
   ]
  }
 ],
 "metadata": {
  "kernelspec": {
   "display_name": "base",
   "language": "python",
   "name": "python3"
  },
  "language_info": {
   "codemirror_mode": {
    "name": "ipython",
    "version": 3
   },
   "file_extension": ".py",
   "mimetype": "text/x-python",
   "name": "python",
   "nbconvert_exporter": "python",
   "pygments_lexer": "ipython3",
   "version": "3.12.7"
  }
 },
 "nbformat": 4,
 "nbformat_minor": 5
}
