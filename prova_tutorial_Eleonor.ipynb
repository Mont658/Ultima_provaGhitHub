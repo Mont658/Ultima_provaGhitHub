{
 "cells": [
  {
   "cell_type": "code",
   "execution_count": null,
   "id": "69b58bec",
   "metadata": {},
   "outputs": [],
   "source": [
    "Vale = \"anem bé\""
   ]
  },
  {
   "cell_type": "code",
   "execution_count": null,
   "id": "1895489a",
   "metadata": {},
   "outputs": [],
   "source": [
    "no_vale = \"no anem bé\""
   ]
  }
 ],
 "metadata": {
  "language_info": {
   "name": "python"
  }
 },
 "nbformat": 4,
 "nbformat_minor": 5
}
